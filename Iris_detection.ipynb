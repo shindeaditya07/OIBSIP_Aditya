{
 "cells": [
  {
   "cell_type": "markdown",
   "id": "b3c641a8",
   "metadata": {},
   "source": [
    "# Problem Statement - Iris Flower Classification\n",
    "\n",
    "\n",
    "Iris flower has three species; setosa, versicolor, and virginica, which differs according to their\n",
    "measurements. Now assume that you have the measurements of the iris flowers according to\n",
    "their species, and here your task is to train a machine learning model that can learn from the\n",
    "measurements of the iris species and classify them.\n",
    "Although the Scikit-learn library provides a dataset for iris flower classification, you can also\n",
    "download the same dataset from here for the task of iris flower classification with Machine\n",
    "Learning. \n",
    "\n",
    "By Aditya Shinde\n",
    "\n",
    "Oasis Infobyte Data Science Internship"
   ]
  },
  {
   "cell_type": "code",
   "execution_count": 2,
   "id": "6c6f73fd",
   "metadata": {},
   "outputs": [
    {
     "name": "stdout",
     "output_type": "stream",
     "text": [
      "Requirement already satisfied: numpy in c:\\aditya_work\\anaconda\\lib\\site-packages (1.24.3)\n",
      "Requirement already satisfied: pandas in c:\\aditya_work\\anaconda\\lib\\site-packages (2.0.3)\n",
      "Requirement already satisfied: python-dateutil>=2.8.2 in c:\\aditya_work\\anaconda\\lib\\site-packages (from pandas) (2.8.2)\n",
      "Requirement already satisfied: pytz>=2020.1 in c:\\aditya_work\\anaconda\\lib\\site-packages (from pandas) (2023.3.post1)\n",
      "Requirement already satisfied: tzdata>=2022.1 in c:\\aditya_work\\anaconda\\lib\\site-packages (from pandas) (2023.3)\n",
      "Requirement already satisfied: numpy>=1.21.0 in c:\\aditya_work\\anaconda\\lib\\site-packages (from pandas) (1.24.3)\n",
      "Requirement already satisfied: six>=1.5 in c:\\aditya_work\\anaconda\\lib\\site-packages (from python-dateutil>=2.8.2->pandas) (1.16.0)\n",
      "Requirement already satisfied: scikit-learn in c:\\aditya_work\\anaconda\\lib\\site-packages (1.3.0)\n",
      "Requirement already satisfied: numpy>=1.17.3 in c:\\aditya_work\\anaconda\\lib\\site-packages (from scikit-learn) (1.24.3)\n",
      "Requirement already satisfied: scipy>=1.5.0 in c:\\aditya_work\\anaconda\\lib\\site-packages (from scikit-learn) (1.11.1)\n",
      "Requirement already satisfied: joblib>=1.1.1 in c:\\aditya_work\\anaconda\\lib\\site-packages (from scikit-learn) (1.2.0)\n",
      "Requirement already satisfied: threadpoolctl>=2.0.0 in c:\\aditya_work\\anaconda\\lib\\site-packages (from scikit-learn) (2.2.0)\n",
      "Requirement already satisfied: matplotlib in c:\\aditya_work\\anaconda\\lib\\site-packages (3.7.2)\n",
      "Requirement already satisfied: contourpy>=1.0.1 in c:\\aditya_work\\anaconda\\lib\\site-packages (from matplotlib) (1.0.5)\n",
      "Requirement already satisfied: cycler>=0.10 in c:\\aditya_work\\anaconda\\lib\\site-packages (from matplotlib) (0.11.0)\n",
      "Requirement already satisfied: fonttools>=4.22.0 in c:\\aditya_work\\anaconda\\lib\\site-packages (from matplotlib) (4.25.0)\n",
      "Requirement already satisfied: kiwisolver>=1.0.1 in c:\\aditya_work\\anaconda\\lib\\site-packages (from matplotlib) (1.4.4)\n",
      "Requirement already satisfied: numpy>=1.20 in c:\\aditya_work\\anaconda\\lib\\site-packages (from matplotlib) (1.24.3)\n",
      "Requirement already satisfied: packaging>=20.0 in c:\\aditya_work\\anaconda\\lib\\site-packages (from matplotlib) (23.2)\n",
      "Requirement already satisfied: pillow>=6.2.0 in c:\\aditya_work\\anaconda\\lib\\site-packages (from matplotlib) (9.4.0)\n",
      "Requirement already satisfied: pyparsing<3.1,>=2.3.1 in c:\\aditya_work\\anaconda\\lib\\site-packages (from matplotlib) (3.0.9)\n",
      "Requirement already satisfied: python-dateutil>=2.7 in c:\\aditya_work\\anaconda\\lib\\site-packages (from matplotlib) (2.8.2)\n",
      "Requirement already satisfied: six>=1.5 in c:\\aditya_work\\anaconda\\lib\\site-packages (from python-dateutil>=2.7->matplotlib) (1.16.0)\n",
      "Requirement already satisfied: seaborn in c:\\aditya_work\\anaconda\\lib\\site-packages (0.12.2)\n",
      "Requirement already satisfied: numpy!=1.24.0,>=1.17 in c:\\aditya_work\\anaconda\\lib\\site-packages (from seaborn) (1.24.3)\n",
      "Requirement already satisfied: pandas>=0.25 in c:\\aditya_work\\anaconda\\lib\\site-packages (from seaborn) (2.0.3)\n",
      "Requirement already satisfied: matplotlib!=3.6.1,>=3.1 in c:\\aditya_work\\anaconda\\lib\\site-packages (from seaborn) (3.7.2)\n",
      "Requirement already satisfied: contourpy>=1.0.1 in c:\\aditya_work\\anaconda\\lib\\site-packages (from matplotlib!=3.6.1,>=3.1->seaborn) (1.0.5)\n",
      "Requirement already satisfied: cycler>=0.10 in c:\\aditya_work\\anaconda\\lib\\site-packages (from matplotlib!=3.6.1,>=3.1->seaborn) (0.11.0)\n",
      "Requirement already satisfied: fonttools>=4.22.0 in c:\\aditya_work\\anaconda\\lib\\site-packages (from matplotlib!=3.6.1,>=3.1->seaborn) (4.25.0)\n",
      "Requirement already satisfied: kiwisolver>=1.0.1 in c:\\aditya_work\\anaconda\\lib\\site-packages (from matplotlib!=3.6.1,>=3.1->seaborn) (1.4.4)\n",
      "Requirement already satisfied: packaging>=20.0 in c:\\aditya_work\\anaconda\\lib\\site-packages (from matplotlib!=3.6.1,>=3.1->seaborn) (23.2)\n",
      "Requirement already satisfied: pillow>=6.2.0 in c:\\aditya_work\\anaconda\\lib\\site-packages (from matplotlib!=3.6.1,>=3.1->seaborn) (9.4.0)\n",
      "Requirement already satisfied: pyparsing<3.1,>=2.3.1 in c:\\aditya_work\\anaconda\\lib\\site-packages (from matplotlib!=3.6.1,>=3.1->seaborn) (3.0.9)\n",
      "Requirement already satisfied: python-dateutil>=2.7 in c:\\aditya_work\\anaconda\\lib\\site-packages (from matplotlib!=3.6.1,>=3.1->seaborn) (2.8.2)\n",
      "Requirement already satisfied: pytz>=2020.1 in c:\\aditya_work\\anaconda\\lib\\site-packages (from pandas>=0.25->seaborn) (2023.3.post1)\n",
      "Requirement already satisfied: tzdata>=2022.1 in c:\\aditya_work\\anaconda\\lib\\site-packages (from pandas>=0.25->seaborn) (2023.3)\n",
      "Requirement already satisfied: six>=1.5 in c:\\aditya_work\\anaconda\\lib\\site-packages (from python-dateutil>=2.7->matplotlib!=3.6.1,>=3.1->seaborn) (1.16.0)\n"
     ]
    }
   ],
   "source": [
    "!pip install numpy\n",
    "!pip install pandas\n",
    "!pip install scikit-learn\n",
    "!pip install matplotlib\n",
    "!pip install seaborn"
   ]
  },
  {
   "cell_type": "code",
   "execution_count": 3,
   "id": "3f7b024c",
   "metadata": {},
   "outputs": [],
   "source": [
    "#Import modules\n",
    "import os\n",
    "import pandas as pd\n",
    "import numpy as np\n",
    "import matplotlib.pyplot as plt\n",
    "import seaborn as sns\n",
    "%matplotlib inline"
   ]
  },
  {
   "cell_type": "code",
   "execution_count": 10,
   "id": "05c1b26b",
   "metadata": {},
   "outputs": [
    {
     "data": {
      "text/html": [
       "<div>\n",
       "<style scoped>\n",
       "    .dataframe tbody tr th:only-of-type {\n",
       "        vertical-align: middle;\n",
       "    }\n",
       "\n",
       "    .dataframe tbody tr th {\n",
       "        vertical-align: top;\n",
       "    }\n",
       "\n",
       "    .dataframe thead th {\n",
       "        text-align: right;\n",
       "    }\n",
       "</style>\n",
       "<table border=\"1\" class=\"dataframe\">\n",
       "  <thead>\n",
       "    <tr style=\"text-align: right;\">\n",
       "      <th></th>\n",
       "      <th>Id</th>\n",
       "      <th>SepalLengthCm</th>\n",
       "      <th>SepalWidthCm</th>\n",
       "      <th>PetalLengthCm</th>\n",
       "      <th>PetalWidthCm</th>\n",
       "      <th>Species</th>\n",
       "    </tr>\n",
       "  </thead>\n",
       "  <tbody>\n",
       "    <tr>\n",
       "      <th>0</th>\n",
       "      <td>1</td>\n",
       "      <td>5.1</td>\n",
       "      <td>3.5</td>\n",
       "      <td>1.4</td>\n",
       "      <td>0.2</td>\n",
       "      <td>Iris-setosa</td>\n",
       "    </tr>\n",
       "    <tr>\n",
       "      <th>1</th>\n",
       "      <td>2</td>\n",
       "      <td>4.9</td>\n",
       "      <td>3.0</td>\n",
       "      <td>1.4</td>\n",
       "      <td>0.2</td>\n",
       "      <td>Iris-setosa</td>\n",
       "    </tr>\n",
       "    <tr>\n",
       "      <th>2</th>\n",
       "      <td>3</td>\n",
       "      <td>4.7</td>\n",
       "      <td>3.2</td>\n",
       "      <td>1.3</td>\n",
       "      <td>0.2</td>\n",
       "      <td>Iris-setosa</td>\n",
       "    </tr>\n",
       "    <tr>\n",
       "      <th>3</th>\n",
       "      <td>4</td>\n",
       "      <td>4.6</td>\n",
       "      <td>3.1</td>\n",
       "      <td>1.5</td>\n",
       "      <td>0.2</td>\n",
       "      <td>Iris-setosa</td>\n",
       "    </tr>\n",
       "    <tr>\n",
       "      <th>4</th>\n",
       "      <td>5</td>\n",
       "      <td>5.0</td>\n",
       "      <td>3.6</td>\n",
       "      <td>1.4</td>\n",
       "      <td>0.2</td>\n",
       "      <td>Iris-setosa</td>\n",
       "    </tr>\n",
       "  </tbody>\n",
       "</table>\n",
       "</div>"
      ],
      "text/plain": [
       "   Id  SepalLengthCm  SepalWidthCm  PetalLengthCm  PetalWidthCm      Species\n",
       "0   1            5.1           3.5            1.4           0.2  Iris-setosa\n",
       "1   2            4.9           3.0            1.4           0.2  Iris-setosa\n",
       "2   3            4.7           3.2            1.3           0.2  Iris-setosa\n",
       "3   4            4.6           3.1            1.5           0.2  Iris-setosa\n",
       "4   5            5.0           3.6            1.4           0.2  Iris-setosa"
      ]
     },
     "execution_count": 10,
     "metadata": {},
     "output_type": "execute_result"
    }
   ],
   "source": [
    "#Loading dataset\n",
    "df = pd.read_csv(\"Iris.csv\")\n",
    "df.head()"
   ]
  },
  {
   "cell_type": "code",
   "execution_count": 11,
   "id": "753b7440",
   "metadata": {},
   "outputs": [
    {
     "data": {
      "text/plain": [
       "Id               0\n",
       "SepalLengthCm    0\n",
       "SepalWidthCm     0\n",
       "PetalLengthCm    0\n",
       "PetalWidthCm     0\n",
       "Species          0\n",
       "dtype: int64"
      ]
     },
     "execution_count": 11,
     "metadata": {},
     "output_type": "execute_result"
    }
   ],
   "source": [
    "#Checking for null values\n",
    "df.isnull().sum()"
   ]
  },
  {
   "cell_type": "code",
   "execution_count": 12,
   "id": "9e21be08",
   "metadata": {},
   "outputs": [
    {
     "data": {
      "text/plain": [
       "Species\n",
       "Iris-setosa        50\n",
       "Iris-versicolor    50\n",
       "Iris-virginica     50\n",
       "Name: count, dtype: int64"
      ]
     },
     "execution_count": 12,
     "metadata": {},
     "output_type": "execute_result"
    }
   ],
   "source": [
    "df['Species'].value_counts()"
   ]
  },
  {
   "cell_type": "code",
   "execution_count": 16,
   "id": "b23a9898",
   "metadata": {},
   "outputs": [
    {
     "name": "stderr",
     "output_type": "stream",
     "text": [
      "C:\\Aditya_Work\\Anaconda\\Lib\\site-packages\\seaborn\\axisgrid.py:118: UserWarning: The figure layout has changed to tight\n",
      "  self._figure.tight_layout(*args, **kwargs)\n"
     ]
    },
    {
     "data": {
      "text/plain": [
       "<seaborn.axisgrid.FacetGrid at 0x1db83efdb50>"
      ]
     },
     "execution_count": 16,
     "metadata": {},
     "output_type": "execute_result"
    },
    {
     "data": {
      "image/png": "[encoded data removed]",
      "text/plain": [
       "<Figure size 743x600 with 1 Axes>"
      ]
     },
     "metadata": {},
     "output_type": "display_data"
    }
   ],
   "source": [
    "#Plotting scatterplot\n",
    "from seaborn import FacetGrid\n",
    "sns.FacetGrid(df, hue = 'Species', height = 6).map(plt.scatter, \"PetalLengthCm\", \"SepalWidthCm\").add_legend()"
   ]
  },
  {
   "cell_type": "code",
   "execution_count": 51,
   "id": "158f7f5e",
   "metadata": {},
   "outputs": [],
   "source": [
    "new_df = df.values\n",
    "X = new_df[:,0:4]\n",
    "Y = new_df[:,5]"
   ]
  },
  {
   "cell_type": "code",
   "execution_count": 58,
   "id": "ff5d4d23",
   "metadata": {},
   "outputs": [
    {
     "name": "stdout",
     "output_type": "stream",
     "text": [
      "(150, 4)\n",
      "[[1 5.1 3.5 1.4]\n",
      " [2 4.9 3.0 1.4]\n",
      " [3 4.7 3.2 1.3]\n",
      " [4 4.6 3.1 1.5]\n",
      " [5 5.0 3.6 1.4]\n",
      " [6 5.4 3.9 1.7]\n",
      " [7 4.6 3.4 1.4]\n",
      " [8 5.0 3.4 1.5]\n",
      " [9 4.4 2.9 1.4]\n",
      " [10 4.9 3.1 1.5]\n",
      " [11 5.4 3.7 1.5]\n",
      " [12 4.8 3.4 1.6]\n",
      " [13 4.8 3.0 1.4]\n",
      " [14 4.3 3.0 1.1]\n",
      " [15 5.8 4.0 1.2]\n",
      " [16 5.7 4.4 1.5]\n",
      " [17 5.4 3.9 1.3]\n",
      " [18 5.1 3.5 1.4]\n",
      " [19 5.7 3.8 1.7]\n",
      " [20 5.1 3.8 1.5]\n",
      " [21 5.4 3.4 1.7]\n",
      " [22 5.1 3.7 1.5]\n",
      " [23 4.6 3.6 1.0]\n",
      " [24 5.1 3.3 1.7]\n",
      " [25 4.8 3.4 1.9]\n",
      " [26 5.0 3.0 1.6]\n",
      " [27 5.0 3.4 1.6]\n",
      " [28 5.2 3.5 1.5]\n",
      " [29 5.2 3.4 1.4]\n",
      " [30 4.7 3.2 1.6]\n",
      " [31 4.8 3.1 1.6]\n",
      " [32 5.4 3.4 1.5]\n",
      " [33 5.2 4.1 1.5]\n",
      " [34 5.5 4.2 1.4]\n",
      " [35 4.9 3.1 1.5]\n",
      " [36 5.0 3.2 1.2]\n",
      " [37 5.5 3.5 1.3]\n",
      " [38 4.9 3.1 1.5]\n",
      " [39 4.4 3.0 1.3]\n",
      " [40 5.1 3.4 1.5]\n",
      " [41 5.0 3.5 1.3]\n",
      " [42 4.5 2.3 1.3]\n",
      " [43 4.4 3.2 1.3]\n",
      " [44 5.0 3.5 1.6]\n",
      " [45 5.1 3.8 1.9]\n",
      " [46 4.8 3.0 1.4]\n",
      " [47 5.1 3.8 1.6]\n",
      " [48 4.6 3.2 1.4]\n",
      " [49 5.3 3.7 1.5]\n",
      " [50 5.0 3.3 1.4]\n",
      " [51 7.0 3.2 4.7]\n",
      " [52 6.4 3.2 4.5]\n",
      " [53 6.9 3.1 4.9]\n",
      " [54 5.5 2.3 4.0]\n",
      " [55 6.5 2.8 4.6]\n",
      " [56 5.7 2.8 4.5]\n",
      " [57 6.3 3.3 4.7]\n",
      " [58 4.9 2.4 3.3]\n",
      " [59 6.6 2.9 4.6]\n",
      " [60 5.2 2.7 3.9]\n",
      " [61 5.0 2.0 3.5]\n",
      " [62 5.9 3.0 4.2]\n",
      " [63 6.0 2.2 4.0]\n",
      " [64 6.1 2.9 4.7]\n",
      " [65 5.6 2.9 3.6]\n",
      " [66 6.7 3.1 4.4]\n",
      " [67 5.6 3.0 4.5]\n",
      " [68 5.8 2.7 4.1]\n",
      " [69 6.2 2.2 4.5]\n",
      " [70 5.6 2.5 3.9]\n",
      " [71 5.9 3.2 4.8]\n",
      " [72 6.1 2.8 4.0]\n",
      " [73 6.3 2.5 4.9]\n",
      " [74 6.1 2.8 4.7]\n",
      " [75 6.4 2.9 4.3]\n",
      " [76 6.6 3.0 4.4]\n",
      " [77 6.8 2.8 4.8]\n",
      " [78 6.7 3.0 5.0]\n",
      " [79 6.0 2.9 4.5]\n",
      " [80 5.7 2.6 3.5]\n",
      " [81 5.5 2.4 3.8]\n",
      " [82 5.5 2.4 3.7]\n",
      " [83 5.8 2.7 3.9]\n",
      " [84 6.0 2.7 5.1]\n",
      " [85 5.4 3.0 4.5]\n",
      " [86 6.0 3.4 4.5]\n",
      " [87 6.7 3.1 4.7]\n",
      " [88 6.3 2.3 4.4]\n",
      " [89 5.6 3.0 4.1]\n",
      " [90 5.5 2.5 4.0]\n",
      " [91 5.5 2.6 4.4]\n",
      " [92 6.1 3.0 4.6]\n",
      " [93 5.8 2.6 4.0]\n",
      " [94 5.0 2.3 3.3]\n",
      " [95 5.6 2.7 4.2]\n",
      " [96 5.7 3.0 4.2]\n",
      " [97 5.7 2.9 4.2]\n",
      " [98 6.2 2.9 4.3]\n",
      " [99 5.1 2.5 3.0]\n",
      " [100 5.7 2.8 4.1]\n",
      " [101 6.3 3.3 6.0]\n",
      " [102 5.8 2.7 5.1]\n",
      " [103 7.1 3.0 5.9]\n",
      " [104 6.3 2.9 5.6]\n",
      " [105 6.5 3.0 5.8]\n",
      " [106 7.6 3.0 6.6]\n",
      " [107 4.9 2.5 4.5]\n",
      " [108 7.3 2.9 6.3]\n",
      " [109 6.7 2.5 5.8]\n",
      " [110 7.2 3.6 6.1]\n",
      " [111 6.5 3.2 5.1]\n",
      " [112 6.4 2.7 5.3]\n",
      " [113 6.8 3.0 5.5]\n",
      " [114 5.7 2.5 5.0]\n",
      " [115 5.8 2.8 5.1]\n",
      " [116 6.4 3.2 5.3]\n",
      " [117 6.5 3.0 5.5]\n",
      " [118 7.7 3.8 6.7]\n",
      " [119 7.7 2.6 6.9]\n",
      " [120 6.0 2.2 5.0]\n",
      " [121 6.9 3.2 5.7]\n",
      " [122 5.6 2.8 4.9]\n",
      " [123 7.7 2.8 6.7]\n",
      " [124 6.3 2.7 4.9]\n",
      " [125 6.7 3.3 5.7]\n",
      " [126 7.2 3.2 6.0]\n",
      " [127 6.2 2.8 4.8]\n",
      " [128 6.1 3.0 4.9]\n",
      " [129 6.4 2.8 5.6]\n",
      " [130 7.2 3.0 5.8]\n",
      " [131 7.4 2.8 6.1]\n",
      " [132 7.9 3.8 6.4]\n",
      " [133 6.4 2.8 5.6]\n",
      " [134 6.3 2.8 5.1]\n",
      " [135 6.1 2.6 5.6]\n",
      " [136 7.7 3.0 6.1]\n",
      " [137 6.3 3.4 5.6]\n",
      " [138 6.4 3.1 5.5]\n",
      " [139 6.0 3.0 4.8]\n",
      " [140 6.9 3.1 5.4]\n",
      " [141 6.7 3.1 5.6]\n",
      " [142 6.9 3.1 5.1]\n",
      " [143 5.8 2.7 5.1]\n",
      " [144 6.8 3.2 5.9]\n",
      " [145 6.7 3.3 5.7]\n",
      " [146 6.7 3.0 5.2]\n",
      " [147 6.3 2.5 5.0]\n",
      " [148 6.5 3.0 5.2]\n",
      " [149 6.2 3.4 5.4]\n",
      " [150 5.9 3.0 5.1]]\n"
     ]
    }
   ],
   "source": [
    "print(X.shape)\n",
    "print(X)"
   ]
  },
  {
   "cell_type": "code",
   "execution_count": 59,
   "id": "d3067a93",
   "metadata": {},
   "outputs": [
    {
     "name": "stdout",
     "output_type": "stream",
     "text": [
      "(150,)\n",
      "['Iris-setosa' 'Iris-setosa' 'Iris-setosa' 'Iris-setosa' 'Iris-setosa'\n",
      " 'Iris-setosa' 'Iris-setosa' 'Iris-setosa' 'Iris-setosa' 'Iris-setosa'\n",
      " 'Iris-setosa' 'Iris-setosa' 'Iris-setosa' 'Iris-setosa' 'Iris-setosa'\n",
      " 'Iris-setosa' 'Iris-setosa' 'Iris-setosa' 'Iris-setosa' 'Iris-setosa'\n",
      " 'Iris-setosa' 'Iris-setosa' 'Iris-setosa' 'Iris-setosa' 'Iris-setosa'\n",
      " 'Iris-setosa' 'Iris-setosa' 'Iris-setosa' 'Iris-setosa' 'Iris-setosa'\n",
      " 'Iris-setosa' 'Iris-setosa' 'Iris-setosa' 'Iris-setosa' 'Iris-setosa'\n",
      " 'Iris-setosa' 'Iris-setosa' 'Iris-setosa' 'Iris-setosa' 'Iris-setosa'\n",
      " 'Iris-setosa' 'Iris-setosa' 'Iris-setosa' 'Iris-setosa' 'Iris-setosa'\n",
      " 'Iris-setosa' 'Iris-setosa' 'Iris-setosa' 'Iris-setosa' 'Iris-setosa'\n",
      " 'Iris-versicolor' 'Iris-versicolor' 'Iris-versicolor' 'Iris-versicolor'\n",
      " 'Iris-versicolor' 'Iris-versicolor' 'Iris-versicolor' 'Iris-versicolor'\n",
      " 'Iris-versicolor' 'Iris-versicolor' 'Iris-versicolor' 'Iris-versicolor'\n",
      " 'Iris-versicolor' 'Iris-versicolor' 'Iris-versicolor' 'Iris-versicolor'\n",
      " 'Iris-versicolor' 'Iris-versicolor' 'Iris-versicolor' 'Iris-versicolor'\n",
      " 'Iris-versicolor' 'Iris-versicolor' 'Iris-versicolor' 'Iris-versicolor'\n",
      " 'Iris-versicolor' 'Iris-versicolor' 'Iris-versicolor' 'Iris-versicolor'\n",
      " 'Iris-versicolor' 'Iris-versicolor' 'Iris-versicolor' 'Iris-versicolor'\n",
      " 'Iris-versicolor' 'Iris-versicolor' 'Iris-versicolor' 'Iris-versicolor'\n",
      " 'Iris-versicolor' 'Iris-versicolor' 'Iris-versicolor' 'Iris-versicolor'\n",
      " 'Iris-versicolor' 'Iris-versicolor' 'Iris-versicolor' 'Iris-versicolor'\n",
      " 'Iris-versicolor' 'Iris-versicolor' 'Iris-versicolor' 'Iris-versicolor'\n",
      " 'Iris-versicolor' 'Iris-versicolor' 'Iris-virginica' 'Iris-virginica'\n",
      " 'Iris-virginica' 'Iris-virginica' 'Iris-virginica' 'Iris-virginica'\n",
      " 'Iris-virginica' 'Iris-virginica' 'Iris-virginica' 'Iris-virginica'\n",
      " 'Iris-virginica' 'Iris-virginica' 'Iris-virginica' 'Iris-virginica'\n",
      " 'Iris-virginica' 'Iris-virginica' 'Iris-virginica' 'Iris-virginica'\n",
      " 'Iris-virginica' 'Iris-virginica' 'Iris-virginica' 'Iris-virginica'\n",
      " 'Iris-virginica' 'Iris-virginica' 'Iris-virginica' 'Iris-virginica'\n",
      " 'Iris-virginica' 'Iris-virginica' 'Iris-virginica' 'Iris-virginica'\n",
      " 'Iris-virginica' 'Iris-virginica' 'Iris-virginica' 'Iris-virginica'\n",
      " 'Iris-virginica' 'Iris-virginica' 'Iris-virginica' 'Iris-virginica'\n",
      " 'Iris-virginica' 'Iris-virginica' 'Iris-virginica' 'Iris-virginica'\n",
      " 'Iris-virginica' 'Iris-virginica' 'Iris-virginica' 'Iris-virginica'\n",
      " 'Iris-virginica' 'Iris-virginica' 'Iris-virginica' 'Iris-virginica']\n"
     ]
    }
   ],
   "source": [
    "print(Y.shape)\n",
    "print(Y)"
   ]
  },
  {
   "cell_type": "code",
   "execution_count": 54,
   "id": "1aadd631",
   "metadata": {},
   "outputs": [
    {
     "name": "stdout",
     "output_type": "stream",
     "text": [
      "Number of training rows vs columns:  (120, 4)\n",
      "Number of testing rows vs columns:  (30, 4)\n"
     ]
    }
   ],
   "source": [
    "#Splitting data into training and testing data\n",
    "from sklearn.model_selection import train_test_split\n",
    "Xtrain, Xtest, Ytrain, Ytest = train_test_split(X,Y, test_size = 0.2)\n",
    "print(\"Number of training rows vs columns: \", Xtrain.shape)\n",
    "print(\"Number of testing rows vs columns: \", Xtest.shape)"
   ]
  },
  {
   "cell_type": "code",
   "execution_count": 60,
   "id": "e788a14b",
   "metadata": {},
   "outputs": [
    {
     "name": "stdout",
     "output_type": "stream",
     "text": [
      "[[149 6.2 3.4 5.4]\n",
      " [47 5.1 3.8 1.6]\n",
      " [108 7.3 2.9 6.3]\n",
      " [42 4.5 2.3 1.3]\n",
      " [51 7.0 3.2 4.7]\n",
      " [45 5.1 3.8 1.9]\n",
      " [73 6.3 2.5 4.9]\n",
      " [17 5.4 3.9 1.3]\n",
      " [36 5.0 3.2 1.2]\n",
      " [93 5.8 2.6 4.0]\n",
      " [25 4.8 3.4 1.9]\n",
      " [2 4.9 3.0 1.4]\n",
      " [138 6.4 3.1 5.5]\n",
      " [81 5.5 2.4 3.8]\n",
      " [101 6.3 3.3 6.0]\n",
      " [121 6.9 3.2 5.7]\n",
      " [104 6.3 2.9 5.6]\n",
      " [49 5.3 3.7 1.5]\n",
      " [26 5.0 3.0 1.6]\n",
      " [65 5.6 2.9 3.6]\n",
      " [105 6.5 3.0 5.8]\n",
      " [90 5.5 2.5 4.0]\n",
      " [111 6.5 3.2 5.1]\n",
      " [56 5.7 2.8 4.5]\n",
      " [38 4.9 3.1 1.5]\n",
      " [125 6.7 3.3 5.7]\n",
      " [142 6.9 3.1 5.1]\n",
      " [97 5.7 2.9 4.2]\n",
      " [62 5.9 3.0 4.2]\n",
      " [92 6.1 3.0 4.6]]\n"
     ]
    }
   ],
   "source": [
    "print(Xtest)"
   ]
  },
  {
   "cell_type": "code",
   "execution_count": 61,
   "id": "d09a1855",
   "metadata": {},
   "outputs": [
    {
     "name": "stdout",
     "output_type": "stream",
     "text": [
      "['Iris-virginica' 'Iris-setosa' 'Iris-virginica' 'Iris-setosa'\n",
      " 'Iris-versicolor' 'Iris-setosa' 'Iris-versicolor' 'Iris-setosa'\n",
      " 'Iris-setosa' 'Iris-versicolor' 'Iris-setosa' 'Iris-setosa'\n",
      " 'Iris-virginica' 'Iris-versicolor' 'Iris-virginica' 'Iris-virginica'\n",
      " 'Iris-virginica' 'Iris-setosa' 'Iris-setosa' 'Iris-versicolor'\n",
      " 'Iris-virginica' 'Iris-versicolor' 'Iris-virginica' 'Iris-versicolor'\n",
      " 'Iris-setosa' 'Iris-virginica' 'Iris-virginica' 'Iris-versicolor'\n",
      " 'Iris-versicolor' 'Iris-versicolor']\n"
     ]
    }
   ],
   "source": [
    "print(Ytest)"
   ]
  },
  {
   "cell_type": "code",
   "execution_count": 57,
   "id": "f7f3eaa0",
   "metadata": {},
   "outputs": [
    {
     "name": "stdout",
     "output_type": "stream",
     "text": [
      "Accuracy:  1.0\n",
      "                 precision    recall  f1-score   support\n",
      "\n",
      "    Iris-setosa       1.00      1.00      1.00        10\n",
      "Iris-versicolor       1.00      1.00      1.00        10\n",
      " Iris-virginica       1.00      1.00      1.00        10\n",
      "\n",
      "       accuracy                           1.00        30\n",
      "      macro avg       1.00      1.00      1.00        30\n",
      "   weighted avg       1.00      1.00      1.00        30\n",
      "\n"
     ]
    }
   ],
   "source": [
    "# Train the Support Vector Machine (SVM) classifier\n",
    "from sklearn.svm import SVC\n",
    "from sklearn.metrics import accuracy_score\n",
    "from sklearn.metrics import classification_report\n",
    "model = SVC()\n",
    "model.fit(Xtrain, Ytrain)\n",
    "\n",
    "# Make predictions on the testing data\n",
    "Ypred = model.predict(Xtest)\n",
    "\n",
    "# Evaluate the model's performance\n",
    "print(\"Accuracy: \",accuracy_score(Ytest, Ypred))\n",
    "print(classification_report(Ytest, Ypred))"
   ]
  },
  {
   "cell_type": "code",
   "execution_count": 56,
   "id": "94f12271",
   "metadata": {},
   "outputs": [
    {
     "name": "stdout",
     "output_type": "stream",
     "text": [
      "Accuracy:  1.0\n",
      "                 precision    recall  f1-score   support\n",
      "\n",
      "    Iris-setosa       1.00      1.00      1.00        10\n",
      "Iris-versicolor       1.00      1.00      1.00        10\n",
      " Iris-virginica       1.00      1.00      1.00        10\n",
      "\n",
      "       accuracy                           1.00        30\n",
      "      macro avg       1.00      1.00      1.00        30\n",
      "   weighted avg       1.00      1.00      1.00        30\n",
      "\n"
     ]
    }
   ],
   "source": [
    "# Train the K-Nearest Neighbors (KNN) classifier\n",
    "from sklearn.neighbors import KNeighborsClassifier\n",
    "model = KNeighborsClassifier(n_neighbors=3)  # Number of neighbors can be adjusted\n",
    "\n",
    "# Fit the model to the training data\n",
    "model.fit(Xtrain, Ytrain)\n",
    "\n",
    "# Make predictions on the testing data\n",
    "Ypred = model.predict(Xtest)\n",
    "\n",
    "# Calculate the accuracy of the model\n",
    "from sklearn.metrics import accuracy_score\n",
    "accuracy = accuracy_score(Ytest, Ypred)\n",
    "print(\"Accuracy: \", accuracy)\n",
    "print(classification_report(Ytest, Ypred))"
   ]
  },
  {
   "cell_type": "code",
   "execution_count": 39,
   "id": "471ef15e",
   "metadata": {},
   "outputs": [
    {
     "name": "stdout",
     "output_type": "stream",
     "text": [
      "Accuracy:  1.0\n",
      "                 precision    recall  f1-score   support\n",
      "\n",
      "    Iris-setosa       1.00      1.00      1.00        10\n",
      "Iris-versicolor       1.00      1.00      1.00         6\n",
      " Iris-virginica       1.00      1.00      1.00        14\n",
      "\n",
      "       accuracy                           1.00        30\n",
      "      macro avg       1.00      1.00      1.00        30\n",
      "   weighted avg       1.00      1.00      1.00        30\n",
      "\n"
     ]
    }
   ],
   "source": [
    "# Train the Decision Trees classifier\n",
    "from sklearn.tree import DecisionTreeClassifier\n",
    "model = DecisionTreeClassifier()\n",
    "\n",
    "# Fit the model to the training data\n",
    "model.fit(Xtrain, Ytrain)\n",
    "\n",
    "# Make predictions on the testing data\n",
    "Ypred = model.predict(Xtest)\n",
    "\n",
    "# Evaluate the model's performance\n",
    "from sklearn.metrics import accuracy_score, classification_report\n",
    "accuracy = accuracy_score(Ytest, Ypred)\n",
    "print(\"Accuracy: \", accuracy)\n",
    "print(classification_report(Ytest, Ypred))"
   ]
  },
  {
   "cell_type": "code",
   "execution_count": 70,
   "id": "d378b5b2",
   "metadata": {},
   "outputs": [
    {
     "name": "stdout",
     "output_type": "stream",
     "text": [
      "Enter sepal length (cm): 5.7\n",
      "Enter sepal width (cm): 6.4\n",
      "Enter petal length (cm): 7.5\n",
      "Enter petal width (cm): 4.2\n",
      "Predicted species: Iris-setosa\n"
     ]
    }
   ],
   "source": [
    "# Prompt the user to input data\n",
    "sepal_length = float(input(\"Enter sepal length (cm): \"))\n",
    "sepal_width = float(input(\"Enter sepal width (cm): \"))\n",
    "petal_length = float(input(\"Enter petal length (cm): \"))\n",
    "petal_width = float(input(\"Enter petal width (cm): \"))\n",
    "\n",
    "# Make predictions using the trained model\n",
    "input_data = np.array([[sepal_length, sepal_width, petal_length, petal_width]])\n",
    "predicted_class = model.predict(input_data)\n",
    "\n",
    "# Map predicted class label to actual species\n",
    "predicted_species = predicted_class[0]\n",
    "\n",
    "# Print the predicted species\n",
    "print(\"Predicted species:\", predicted_species)"
   ]
  },
  {
   "cell_type": "code",
   "execution_count": null,
   "id": "96d6ea7d",
   "metadata": {},
   "outputs": [],
   "source": []
  }
 ],
 "metadata": {
  "kernelspec": {
   "display_name": "Python 3 (ipykernel)",
   "language": "python",
   "name": "python3"
  },
  "language_info": {
   "codemirror_mode": {
    "name": "ipython",
    "version": 3
   },
   "file_extension": ".py",
   "mimetype": "text/x-python",
   "name": "python",
   "nbconvert_exporter": "python",
   "pygments_lexer": "ipython3",
   "version": "3.11.5"
  }
 },
 "nbformat": 4,
 "nbformat_minor": 5
}
